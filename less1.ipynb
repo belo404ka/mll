{
  "nbformat": 4,
  "nbformat_minor": 0,
  "metadata": {
    "colab": {
      "name": "Прокопьева Д.А занятие 1, задание 1-12",
      "provenance": [],
      "collapsed_sections": [],
      "toc_visible": true
    },
    "kernelspec": {
      "name": "python3",
      "display_name": "Python 3"
    },
    "language_info": {
      "name": "python"
    }
  },
  "cells": [
    {
      "cell_type": "markdown",
      "metadata": {
        "id": "x2MmSZ7OuRST"
      },
      "source": [
        "Задача 1\n",
        "Создайте переменную a = 10, возвести значение в 3 степень и найти остаток от деления на 3.\n"
      ]
    },
    {
      "cell_type": "code",
      "metadata": {
        "colab": {
          "base_uri": "https://localhost:8080/"
        },
        "id": "CFP-IObBuS-p",
        "outputId": "e67299b5-d9f4-4d69-a6f8-d65ebcae66b5"
      },
      "source": [
        "a = 10\n",
        "a ** 3 % 3"
      ],
      "execution_count": null,
      "outputs": [
        {
          "output_type": "execute_result",
          "data": {
            "text/plain": [
              "1"
            ]
          },
          "metadata": {},
          "execution_count": 1
        }
      ]
    },
    {
      "cell_type": "markdown",
      "metadata": {
        "id": "BgPiepEcugv_"
      },
      "source": [
        "Задача 2\n",
        "Найдите площадь круга с радиусом 1.23456.\n",
        "\n",
        "(Считаем π = 3.14)"
      ]
    },
    {
      "cell_type": "code",
      "metadata": {
        "colab": {
          "base_uri": "https://localhost:8080/"
        },
        "id": "0H3TjbMBujrU",
        "outputId": "4606e0eb-3f4b-4362-b882-82580d5c962b"
      },
      "source": [
        "import math\n",
        "r = 1.23456\n",
        "s = math.pi * (r ** 2)\n",
        "s"
      ],
      "execution_count": null,
      "outputs": [
        {
          "output_type": "execute_result",
          "data": {
            "text/plain": [
              "4.788221980387909"
            ]
          },
          "metadata": {},
          "execution_count": 3
        }
      ]
    },
    {
      "cell_type": "markdown",
      "metadata": {
        "id": "DlnZJXqCvQRH"
      },
      "source": [
        "Задача 3\n",
        "Найдите, истинно ли, что 2 в 10 степени больше 1000 при условии, что 4 в 7й степени меньше 8 в 5й."
      ]
    },
    {
      "cell_type": "code",
      "metadata": {
        "colab": {
          "base_uri": "https://localhost:8080/"
        },
        "id": "iWSNxPzRvSxO",
        "outputId": "1c41ca59-a1e8-4d39-e50f-15cf727a62fd"
      },
      "source": [
        "\n",
        "def is_true():\n",
        "  a, b, c, d = 2 ** 10, 1000, 4 ** 7, 8 ** 5 \n",
        "  return True if (c < d and a > b) else False\n",
        "\n",
        "\n",
        "is_true()\n"
      ],
      "execution_count": null,
      "outputs": [
        {
          "output_type": "execute_result",
          "data": {
            "text/plain": [
              "True"
            ]
          },
          "metadata": {},
          "execution_count": 4
        }
      ]
    },
    {
      "cell_type": "markdown",
      "metadata": {
        "id": "8eWwJgF_xhhb"
      },
      "source": [
        "Задача 4\n",
        "Мы принимаем целое число на ввод с клавиатуры (код предоставлен), вывести \"цена выше рынка\", если число выше 1200, \"цена ниже рыночной\", если число меньше 800 и \"все ок\" в остальных случаях."
      ]
    },
    {
      "cell_type": "code",
      "metadata": {
        "colab": {
          "base_uri": "https://localhost:8080/"
        },
        "id": "-2GHtB4Gxn44",
        "outputId": "dbf6eab9-1584-4d0c-e99e-7eb298bcf0e7"
      },
      "source": [
        "price = int(input('Введите цену товара: '))\n",
        "if price > 1200:\n",
        "  print('цена выше рынка')\n",
        "elif price < 800:\n",
        "  print('цена ниже рыночной')\n",
        "else:\n",
        "  print('все ок')"
      ],
      "execution_count": null,
      "outputs": [
        {
          "output_type": "stream",
          "name": "stdout",
          "text": [
            "Введите цену товара: 700\n",
            "цена ниже рыночной\n"
          ]
        }
      ]
    },
    {
      "cell_type": "markdown",
      "metadata": {
        "id": "vHQ8rXLHyazt"
      },
      "source": [
        "Задача 5\n",
        "Распечатайте с 4 по 8 символ фразы \"Привет мир!\" приведенные к верхнему регистру."
      ]
    },
    {
      "cell_type": "code",
      "metadata": {
        "colab": {
          "base_uri": "https://localhost:8080/"
        },
        "id": "sZCDPEMFydiJ",
        "outputId": "021d5d6d-e5c9-4bb1-d457-38eda32ecc89"
      },
      "source": [
        "a = 'Привет мир!'\n",
        "print(a.upper()[4:8])"
      ],
      "execution_count": null,
      "outputs": [
        {
          "output_type": "stream",
          "name": "stdout",
          "text": [
            "ЕТ М\n"
          ]
        }
      ]
    },
    {
      "cell_type": "markdown",
      "metadata": {
        "id": "lLl2lAWNzMdQ"
      },
      "source": [
        "Задача 6\n",
        "Создайте переменную, которая хранит описание этой задачи как строку, разделите слова по пробелам и приведите к нижнему регистру."
      ]
    },
    {
      "cell_type": "code",
      "metadata": {
        "colab": {
          "base_uri": "https://localhost:8080/"
        },
        "id": "wvg-tbRRzPWu",
        "outputId": "4c3b30db-a471-482b-9512-d6ef1bf1c5a4"
      },
      "source": [
        "a = 'Создайте переменную, которая хранит описание этой задачи как строку,\\n\n",
        "      разделите слова по пробелам и приведите к нижнему регистру.'\n",
        "for i in a.split(' '):\n",
        "  print(i.lower())"
      ],
      "execution_count": null,
      "outputs": [
        {
          "output_type": "stream",
          "name": "stdout",
          "text": [
            "создайте\n",
            "переменную,\n",
            "которая\n",
            "хранит\n",
            "описание\n",
            "этой\n",
            "задачи\n",
            "как\n",
            "строку,\n",
            "разделите\n",
            "слова\n",
            "по\n",
            "пробелам\n",
            "и\n",
            "приведите\n",
            "к\n",
            "нижнему\n",
            "регистру.\n"
          ]
        }
      ]
    },
    {
      "cell_type": "markdown",
      "metadata": {
        "id": "drI_2LCd1eoC"
      },
      "source": [
        "Задание 7\n",
        "Напишите код, который проверяет, является ли переменная x строкой, и если да, то если в строке больше одного слова (слово--последовательность подряд идущих символов без пробелов), то выводит на экран количество слов в этой строке и сами слова в алфавитном порядке."
      ]
    },
    {
      "cell_type": "code",
      "metadata": {
        "colab": {
          "base_uri": "https://localhost:8080/"
        },
        "id": "pc5c1XLg1h5U",
        "outputId": "ecb8d8a9-2e6d-430c-b345-3f9df1eb25cb"
      },
      "source": [
        "x = 'z hello world'\n",
        "\n",
        "if type(x) is str:\n",
        "  a = x.split()\n",
        "  if len(a) > 1:\n",
        "    one, two, three = a[0], a[1], a[2]\n",
        "    print(f'{len(a)}\\n{one}\\n{two}\\n{three}')\n"
      ],
      "execution_count": null,
      "outputs": [
        {
          "output_type": "stream",
          "name": "stdout",
          "text": [
            "3\n",
            "z\n",
            "hello\n",
            "world\n"
          ]
        }
      ]
    },
    {
      "cell_type": "markdown",
      "metadata": {
        "id": "YdON1B6e-uVh"
      },
      "source": [
        "Задание 8\n",
        "Напишите код, который все элементы массива x с нечетными индексами переставит в обратном порядке.\n",
        "\n",
        "Т.е. если x = [0, 1, 2, 3, 4, 5, 6, 7, 8, 9], то код должен получать [0, 9, 2, 7, 4, 5, 6, 3, 8, 1]"
      ]
    },
    {
      "cell_type": "code",
      "metadata": {
        "colab": {
          "base_uri": "https://localhost:8080/"
        },
        "id": "gjr_BYh0_IS2",
        "outputId": "733b0d9c-b036-4a02-bd73-f7cc3e7790f2"
      },
      "source": [
        "x = [0, 1, 2, 3, 4, 5, 6, 7, 8, 9]\n",
        "\n",
        "for i in range(1, len(x), 2):\n",
        "    if x[-1] > x[i]:\n",
        "      x[-1], x[i] = x[i], x[-1]\n",
        "\n",
        "x\n"
      ],
      "execution_count": null,
      "outputs": [
        {
          "output_type": "execute_result",
          "data": {
            "text/plain": [
              "[0, 9, 2, 3, 4, 5, 6, 7, 8, 1]"
            ]
          },
          "metadata": {},
          "execution_count": 34
        }
      ]
    },
    {
      "cell_type": "markdown",
      "metadata": {
        "id": "wItYI9XMHAPc"
      },
      "source": [
        "Напишите цикл, который выводит все числа от 0 до 500, делящиеся на 7, если в них есть цифра 8.\n",
        "\n",
        "Подсказка: переменную типа int можно привести к типу str:"
      ]
    },
    {
      "cell_type": "code",
      "metadata": {
        "colab": {
          "base_uri": "https://localhost:8080/"
        },
        "id": "tArtxBvMHCmm",
        "outputId": "ec5f9c19-c5b2-41e2-de6e-f923da45dd89"
      },
      "source": [
        "for i in range(500):\n",
        "  if i % 7 == 0:\n",
        "    if str(i).find('8') != -1:\n",
        "        print(i)"
      ],
      "execution_count": null,
      "outputs": [
        {
          "output_type": "stream",
          "name": "stdout",
          "text": [
            "28\n",
            "84\n",
            "98\n",
            "168\n",
            "182\n",
            "189\n",
            "238\n",
            "280\n",
            "287\n",
            "308\n",
            "378\n",
            "385\n",
            "448\n",
            "483\n"
          ]
        }
      ]
    },
    {
      "cell_type": "markdown",
      "metadata": {
        "id": "NIg5UilRP6-s"
      },
      "source": [
        "Задание 10\n",
        "Создайте список a, состоящий из каких-то элементов.\n",
        "Создайте список b такого же размера, как a, состоящий из каких-то элементов.\n",
        "Выведите нумерованный список пар из элементов списков a и b."
      ]
    },
    {
      "cell_type": "code",
      "metadata": {
        "colab": {
          "base_uri": "https://localhost:8080/"
        },
        "id": "HZMPtyotP7x_",
        "outputId": "8ec04712-cdbe-4bc7-fbaf-06ae28a07c8f"
      },
      "source": [
        "a = [('81', 'x'), ('22', 'y'), ('37', 'z')]\n",
        "b = [('11', 'x'), ('21', 'z'), ('33', 'z')]\n",
        "\n",
        "list(zip(range(len(a)), a, b))"
      ],
      "execution_count": null,
      "outputs": [
        {
          "output_type": "execute_result",
          "data": {
            "text/plain": [
              "[(0, ('81', 'x'), ('11', 'x')),\n",
              " (1, ('22', 'y'), ('21', 'z')),\n",
              " (2, ('37', 'z'), ('33', 'z'))]"
            ]
          },
          "metadata": {},
          "execution_count": 117
        }
      ]
    },
    {
      "cell_type": "markdown",
      "metadata": {
        "id": "4g8kg6UTWK2Z"
      },
      "source": [
        "Задание 11\n",
        "Дан массив строк mas. Одной строкой создайте словарь, в котором по ключу строки будет записана пара (кортеж длины 2) (индекс строки в массиве mas, длина строки)"
      ]
    },
    {
      "cell_type": "code",
      "metadata": {
        "colab": {
          "base_uri": "https://localhost:8080/"
        },
        "id": "fs_xOsq1WPbe",
        "outputId": "203ea80e-f176-4060-977b-1b0b69df35e6"
      },
      "source": [
        "mas = ['abv', 'adc']\n",
        "{k: (v, len(k)) for v, k in enumerate(mas)}\n"
      ],
      "execution_count": null,
      "outputs": [
        {
          "output_type": "execute_result",
          "data": {
            "text/plain": [
              "{'abv': (0, 3), 'adc': (1, 3)}"
            ]
          },
          "metadata": {},
          "execution_count": 19
        }
      ]
    },
    {
      "cell_type": "markdown",
      "metadata": {
        "id": "UM3bJN0tmqw8"
      },
      "source": [
        "Задание 12\n",
        "Релизовать функцию, которая возвращает сумму всех позиционных и именованных аргументов."
      ]
    },
    {
      "cell_type": "code",
      "metadata": {
        "colab": {
          "base_uri": "https://localhost:8080/"
        },
        "id": "70vJlOO1mx08",
        "outputId": "bcd9f6f1-1a8a-42ba-8c18-b43555c25bc1"
      },
      "source": [
        "def func(*args, **kwargs):\n",
        "  res = 0\n",
        "  for i in args:\n",
        "    res += i\n",
        "  for k in kwargs.values():\n",
        "    res += k\n",
        "  return res\n",
        "\n",
        "print(func(1, 2, 3, a=4, b=5))"
      ],
      "execution_count": null,
      "outputs": [
        {
          "output_type": "stream",
          "name": "stdout",
          "text": [
            "15\n"
          ]
        }
      ]
    },
    {
      "cell_type": "markdown",
      "metadata": {
        "id": "3cxe8nPjqAe9"
      },
      "source": [
        "Задание 13\n",
        "Реализовать функцию, которая сохраняет в 2 глобальные переменные:\n",
        "\n",
        "сумму всех позиционных аргументов - релизовать через lambda;\n",
        "название всех именованных аргументов в виде списка."
      ]
    },
    {
      "cell_type": "code",
      "metadata": {
        "colab": {
          "base_uri": "https://localhost:8080/"
        },
        "id": "n6bTkjTGqDQj",
        "outputId": "7f1e94ce-42c5-494f-daf3-2754c13399aa"
      },
      "source": [
        "summ = 0\n",
        "names = []\n",
        "def another_func(*args, **kwargs):\n",
        "  global summ\n",
        "  global names\n",
        "  summ = (lambda *args:  sum(args))(*args)\n",
        "  for name in kwargs.keys():\n",
        "    names.append(name)\n",
        "  print(f'Cумма {summ}, названия {names}')\n",
        "\n",
        "another_func(1,2,3,4, b=1, c=2)\n"
      ],
      "execution_count": null,
      "outputs": [
        {
          "output_type": "stream",
          "name": "stdout",
          "text": [
            "Cумма 10, названия ['b', 'c']\n"
          ]
        }
      ]
    },
    {
      "cell_type": "markdown",
      "metadata": {
        "id": "IabSVuqROHdg"
      },
      "source": [
        "Задание 14\n",
        "Реализовать класс с 2 функциями:\n",
        "\n",
        "Первая функция копирует функционал задачи №13, но сохраняет переменные в области видимости класса;\n",
        "Вторая функция отображает на экран сумму и названия именованных аргументов."
      ]
    }
  ]
}