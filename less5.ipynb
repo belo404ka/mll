{
  "nbformat": 4,
  "nbformat_minor": 0,
  "metadata": {
    "colab": {
      "name": "Прокопьева Д.А. задание 4",
      "provenance": [],
      "collapsed_sections": []
    },
    "kernelspec": {
      "name": "python3",
      "display_name": "Python 3"
    },
    "language_info": {
      "name": "python"
    }
  },
  "cells": [
    {
      "cell_type": "code",
      "metadata": {
        "colab": {
          "base_uri": "https://localhost:8080/"
        },
        "id": "HskG1Jxj1P2A",
        "outputId": "1816d102-c287-4764-dedd-d94b53c960b7"
      },
      "source": [
        "! unzip archive.zip"
      ],
      "execution_count": null,
      "outputs": [
        {
          "output_type": "stream",
          "name": "stdout",
          "text": [
            "Archive:  archive.zip\n",
            "  inflating: test.csv                \n",
            "  inflating: train.csv               \n"
          ]
        }
      ]
    },
    {
      "cell_type": "code",
      "metadata": {
        "id": "nG4YqjBj17yT"
      },
      "source": [
        "import numpy as np\n",
        "import pandas as pd\n",
        "import matplotlib.pyplot as plt\n",
        "import seaborn as sns\n",
        "import string\n",
        "import re\n",
        "\n",
        "from textblob import TextBlob\n",
        "from mlxtend.plotting import plot_confusion_matrix\n",
        "from sklearn import metrics\n",
        "from sklearn.naive_bayes import MultinomialNB\n",
        "from sklearn.utils import resample\n",
        "from sklearn.model_selection import train_test_split\n",
        "from sklearn.metrics import confusion_matrix\n",
        "from matplotlib import pyplot as plt\n",
        "from nltk import word_tokenize\n",
        "from sklearn.feature_extraction.text import CountVectorizer, TfidfVectorizer"
      ],
      "execution_count": null,
      "outputs": []
    },
    {
      "cell_type": "code",
      "metadata": {
        "colab": {
          "base_uri": "https://localhost:8080/",
          "height": 204
        },
        "id": "JlUOaOM_1zGA",
        "outputId": "9fef6c70-9709-4d4a-8080-8cc7cc020b6c"
      },
      "source": [
        "df_test = pd.read_csv('/content/test.csv')\n",
        "df_test.head()"
      ],
      "execution_count": null,
      "outputs": [
        {
          "output_type": "execute_result",
          "data": {
            "text/html": [
              "<div>\n",
              "<style scoped>\n",
              "    .dataframe tbody tr th:only-of-type {\n",
              "        vertical-align: middle;\n",
              "    }\n",
              "\n",
              "    .dataframe tbody tr th {\n",
              "        vertical-align: top;\n",
              "    }\n",
              "\n",
              "    .dataframe thead th {\n",
              "        text-align: right;\n",
              "    }\n",
              "</style>\n",
              "<table border=\"1\" class=\"dataframe\">\n",
              "  <thead>\n",
              "    <tr style=\"text-align: right;\">\n",
              "      <th></th>\n",
              "      <th>id</th>\n",
              "      <th>tweet</th>\n",
              "    </tr>\n",
              "  </thead>\n",
              "  <tbody>\n",
              "    <tr>\n",
              "      <th>0</th>\n",
              "      <td>31963</td>\n",
              "      <td>#studiolife #aislife #requires #passion #dedic...</td>\n",
              "    </tr>\n",
              "    <tr>\n",
              "      <th>1</th>\n",
              "      <td>31964</td>\n",
              "      <td>@user #white #supremacists want everyone to s...</td>\n",
              "    </tr>\n",
              "    <tr>\n",
              "      <th>2</th>\n",
              "      <td>31965</td>\n",
              "      <td>safe ways to heal your #acne!!    #altwaystohe...</td>\n",
              "    </tr>\n",
              "    <tr>\n",
              "      <th>3</th>\n",
              "      <td>31966</td>\n",
              "      <td>is the hp and the cursed child book up for res...</td>\n",
              "    </tr>\n",
              "    <tr>\n",
              "      <th>4</th>\n",
              "      <td>31967</td>\n",
              "      <td>3rd #bihday to my amazing, hilarious #nephew...</td>\n",
              "    </tr>\n",
              "  </tbody>\n",
              "</table>\n",
              "</div>"
            ],
            "text/plain": [
              "      id                                              tweet\n",
              "0  31963  #studiolife #aislife #requires #passion #dedic...\n",
              "1  31964   @user #white #supremacists want everyone to s...\n",
              "2  31965  safe ways to heal your #acne!!    #altwaystohe...\n",
              "3  31966  is the hp and the cursed child book up for res...\n",
              "4  31967    3rd #bihday to my amazing, hilarious #nephew..."
            ]
          },
          "metadata": {},
          "execution_count": 3
        }
      ]
    },
    {
      "cell_type": "code",
      "metadata": {
        "colab": {
          "base_uri": "https://localhost:8080/"
        },
        "id": "e_wkUyw6MitD",
        "outputId": "ed448ea5-d886-4a93-dcf6-afbca3530f25"
      },
      "source": [
        "# пустых значений нет\n",
        "df_test.info()"
      ],
      "execution_count": null,
      "outputs": [
        {
          "output_type": "stream",
          "name": "stdout",
          "text": [
            "<class 'pandas.core.frame.DataFrame'>\n",
            "RangeIndex: 17197 entries, 0 to 17196\n",
            "Data columns (total 2 columns):\n",
            " #   Column  Non-Null Count  Dtype \n",
            "---  ------  --------------  ----- \n",
            " 0   id      17197 non-null  int64 \n",
            " 1   tweet   17197 non-null  object\n",
            "dtypes: int64(1), object(1)\n",
            "memory usage: 268.8+ KB\n"
          ]
        }
      ]
    },
    {
      "cell_type": "code",
      "metadata": {
        "colab": {
          "base_uri": "https://localhost:8080/",
          "height": 204
        },
        "id": "xBvDYTFu2GTL",
        "outputId": "f505020d-d0bd-48f8-fcce-f33716d997b9"
      },
      "source": [
        "df_train = pd.read_csv('/content/train.csv')\n",
        "df_train.head()"
      ],
      "execution_count": null,
      "outputs": [
        {
          "output_type": "execute_result",
          "data": {
            "text/html": [
              "<div>\n",
              "<style scoped>\n",
              "    .dataframe tbody tr th:only-of-type {\n",
              "        vertical-align: middle;\n",
              "    }\n",
              "\n",
              "    .dataframe tbody tr th {\n",
              "        vertical-align: top;\n",
              "    }\n",
              "\n",
              "    .dataframe thead th {\n",
              "        text-align: right;\n",
              "    }\n",
              "</style>\n",
              "<table border=\"1\" class=\"dataframe\">\n",
              "  <thead>\n",
              "    <tr style=\"text-align: right;\">\n",
              "      <th></th>\n",
              "      <th>id</th>\n",
              "      <th>label</th>\n",
              "      <th>tweet</th>\n",
              "    </tr>\n",
              "  </thead>\n",
              "  <tbody>\n",
              "    <tr>\n",
              "      <th>0</th>\n",
              "      <td>1</td>\n",
              "      <td>0</td>\n",
              "      <td>@user when a father is dysfunctional and is s...</td>\n",
              "    </tr>\n",
              "    <tr>\n",
              "      <th>1</th>\n",
              "      <td>2</td>\n",
              "      <td>0</td>\n",
              "      <td>@user @user thanks for #lyft credit i can't us...</td>\n",
              "    </tr>\n",
              "    <tr>\n",
              "      <th>2</th>\n",
              "      <td>3</td>\n",
              "      <td>0</td>\n",
              "      <td>bihday your majesty</td>\n",
              "    </tr>\n",
              "    <tr>\n",
              "      <th>3</th>\n",
              "      <td>4</td>\n",
              "      <td>0</td>\n",
              "      <td>#model   i love u take with u all the time in ...</td>\n",
              "    </tr>\n",
              "    <tr>\n",
              "      <th>4</th>\n",
              "      <td>5</td>\n",
              "      <td>0</td>\n",
              "      <td>factsguide: society now    #motivation</td>\n",
              "    </tr>\n",
              "  </tbody>\n",
              "</table>\n",
              "</div>"
            ],
            "text/plain": [
              "   id  label                                              tweet\n",
              "0   1      0   @user when a father is dysfunctional and is s...\n",
              "1   2      0  @user @user thanks for #lyft credit i can't us...\n",
              "2   3      0                                bihday your majesty\n",
              "3   4      0  #model   i love u take with u all the time in ...\n",
              "4   5      0             factsguide: society now    #motivation"
            ]
          },
          "metadata": {},
          "execution_count": 5
        }
      ]
    },
    {
      "cell_type": "code",
      "metadata": {
        "colab": {
          "base_uri": "https://localhost:8080/"
        },
        "id": "v7zdjql5M_Nw",
        "outputId": "231b7166-e3b5-4eeb-b846-42aa132a49c3"
      },
      "source": [
        "df_train.info()"
      ],
      "execution_count": null,
      "outputs": [
        {
          "output_type": "stream",
          "name": "stdout",
          "text": [
            "<class 'pandas.core.frame.DataFrame'>\n",
            "RangeIndex: 31962 entries, 0 to 31961\n",
            "Data columns (total 3 columns):\n",
            " #   Column  Non-Null Count  Dtype \n",
            "---  ------  --------------  ----- \n",
            " 0   id      31962 non-null  int64 \n",
            " 1   label   31962 non-null  int64 \n",
            " 2   tweet   31962 non-null  object\n",
            "dtypes: int64(2), object(1)\n",
            "memory usage: 749.2+ KB\n"
          ]
        }
      ]
    },
    {
      "cell_type": "markdown",
      "metadata": {
        "id": "S6EdfTFFDBGa"
      },
      "source": [
        "пустых значений нет\n",
        "\n",
        " думаю, что здесь нет дубликатов"
      ]
    },
    {
      "cell_type": "code",
      "metadata": {
        "colab": {
          "base_uri": "https://localhost:8080/"
        },
        "id": "M3cFm1CYI0hb",
        "outputId": "4c6c9f2a-f551-40da-b21e-670d2de22881"
      },
      "source": [
        "# баланс классов\n",
        "df_train.label.value_counts()"
      ],
      "execution_count": null,
      "outputs": [
        {
          "output_type": "execute_result",
          "data": {
            "text/plain": [
              "0    29720\n",
              "1     2242\n",
              "Name: label, dtype: int64"
            ]
          },
          "metadata": {},
          "execution_count": 7
        }
      ]
    },
    {
      "cell_type": "markdown",
      "metadata": {
        "id": "INnhqiA3UBxX"
      },
      "source": [
        "Подготовим наши данные - удалим все лишнее ( знаки препинания, предлоги местоимения и тд)\n",
        "Все, что встречается часто как связь речи, но не несет особый смысл в нашем обучении\n",
        "Подготовим оставшиеся данные так, чтобы они были одного формата (например нижний регистр)"
      ]
    },
    {
      "cell_type": "code",
      "metadata": {
        "colab": {
          "base_uri": "https://localhost:8080/"
        },
        "id": "rQE3sdjtOGJs",
        "outputId": "79c4f3a2-2996-4932-e107-5896150722a9"
      },
      "source": [
        "import nltk\n",
        "from nltk.corpus import stopwords\n",
        "nltk.download('stopwords')\n",
        "stop = stopwords.words('english')\n"
      ],
      "execution_count": null,
      "outputs": [
        {
          "output_type": "stream",
          "name": "stdout",
          "text": [
            "[nltk_data] Downloading package stopwords to /root/nltk_data...\n",
            "[nltk_data]   Unzipping corpora/stopwords.zip.\n"
          ]
        }
      ]
    },
    {
      "cell_type": "markdown",
      "metadata": {
        "id": "a7u287aeDE_k"
      },
      "source": [
        "# заменяем стоп слова пробелом"
      ]
    },
    {
      "cell_type": "code",
      "metadata": {
        "id": "Llj7Er7oR9Vq"
      },
      "source": [
        "def stop_words_removal(df):\n",
        "    df['tweet'] = df['tweet'].apply(lambda x: \" \".join(x for x in x.split() if x not in stop))\n",
        "    print(df['tweet'].head())"
      ],
      "execution_count": null,
      "outputs": []
    },
    {
      "cell_type": "code",
      "metadata": {
        "colab": {
          "base_uri": "https://localhost:8080/"
        },
        "id": "zC3nJGPfQ8SS",
        "outputId": "8cf37e5a-cf38-4fea-fe08-fadfdb4cda80"
      },
      "source": [
        "stop_words_removal(df_train)"
      ],
      "execution_count": null,
      "outputs": [
        {
          "output_type": "stream",
          "name": "stdout",
          "text": [
            "0    @user father dysfunctional selfish drags kids ...\n",
            "1    @user @user thanks #lyft credit can't use caus...\n",
            "2                                       bihday majesty\n",
            "3    #model love u take u time urð±!!! ððð...\n",
            "4                      factsguide: society #motivation\n",
            "Name: tweet, dtype: object\n"
          ]
        }
      ]
    },
    {
      "cell_type": "code",
      "metadata": {
        "colab": {
          "base_uri": "https://localhost:8080/"
        },
        "id": "2se-rECzRAfJ",
        "outputId": "80ab0d2c-b41f-480a-9689-91a240cc200f"
      },
      "source": [
        "stop_words_removal(df_test)"
      ],
      "execution_count": null,
      "outputs": [
        {
          "output_type": "stream",
          "name": "stdout",
          "text": [
            "0    #studiolife #aislife #requires #passion #dedic...\n",
            "1    @user #white #supremacists want everyone see n...\n",
            "2    safe ways heal #acne!! #altwaystoheal #healthy...\n",
            "3    hp cursed child book reservations already? yes...\n",
            "4    3rd #bihday amazing, hilarious #nephew eli ahm...\n",
            "Name: tweet, dtype: object\n"
          ]
        }
      ]
    },
    {
      "cell_type": "markdown",
      "metadata": {
        "id": "09mqPqFJTO7j"
      },
      "source": [
        "Заменим знаки препинания и прочую пунктуацию на пробел"
      ]
    },
    {
      "cell_type": "code",
      "metadata": {
        "id": "Yot4fTgiSMn3"
      },
      "source": [
        "def punctuation_removal(df):\n",
        "    df['tweet'] = df['tweet'].str.replace('[^\\w\\s]','')\n",
        "    print(df['tweet'].head())"
      ],
      "execution_count": null,
      "outputs": []
    },
    {
      "cell_type": "code",
      "metadata": {
        "colab": {
          "base_uri": "https://localhost:8080/"
        },
        "id": "S7lR3uSGS81x",
        "outputId": "945896ce-2de8-4c0b-aebd-341ad3176080"
      },
      "source": [
        "punctuation_removal(df_train)\n",
        "punctuation_removal(df_test)"
      ],
      "execution_count": null,
      "outputs": [
        {
          "output_type": "stream",
          "name": "stdout",
          "text": [
            "0    user father dysfunctional selfish drags kids d...\n",
            "1    user user thanks lyft credit cant use cause of...\n",
            "2                                       bihday majesty\n",
            "3                model love u take u time urð ðððð ððð\n",
            "4                        factsguide society motivation\n",
            "Name: tweet, dtype: object\n",
            "0    studiolife aislife requires passion dedication...\n",
            "1    user white supremacists want everyone see new ...\n",
            "2    safe ways heal acne altwaystoheal healthy healing\n",
            "3    hp cursed child book reservations already yes ...\n",
            "4    3rd bihday amazing hilarious nephew eli ahmir ...\n",
            "Name: tweet, dtype: object\n"
          ]
        }
      ]
    },
    {
      "cell_type": "markdown",
      "metadata": {
        "id": "KGrHpP_uTbRK"
      },
      "source": [
        "Переведем все в нижний регистр"
      ]
    },
    {
      "cell_type": "code",
      "metadata": {
        "id": "6wZ1-AygTEQ_"
      },
      "source": [
        "\n",
        "def lower_case(df):\n",
        "    df['tweet'] = df['tweet'].apply(lambda x: \" \".join(x.lower() for x in x.split()))\n",
        "    print(df['tweet'].head())"
      ],
      "execution_count": null,
      "outputs": []
    },
    {
      "cell_type": "code",
      "metadata": {
        "colab": {
          "base_uri": "https://localhost:8080/"
        },
        "id": "2bLHn1ojT3AN",
        "outputId": "0988bdaa-5b41-4b85-b299-0f2b7108d03b"
      },
      "source": [
        "lower_case(df_train)\n",
        "lower_case(df_test)"
      ],
      "execution_count": null,
      "outputs": [
        {
          "output_type": "stream",
          "name": "stdout",
          "text": [
            "0    user father dysfunctional selfish drags kids d...\n",
            "1    user user thanks lyft credit cant use cause of...\n",
            "2                                       bihday majesty\n",
            "3                model love u take u time urð ðððð ððð\n",
            "4                        factsguide society motivation\n",
            "Name: tweet, dtype: object\n",
            "0    studiolife aislife requires passion dedication...\n",
            "1    user white supremacists want everyone see new ...\n",
            "2    safe ways heal acne altwaystoheal healthy healing\n",
            "3    hp cursed child book reservations already yes ...\n",
            "4    3rd bihday amazing hilarious nephew eli ahmir ...\n",
            "Name: tweet, dtype: object\n"
          ]
        }
      ]
    },
    {
      "cell_type": "markdown",
      "metadata": {
        "id": "wgY_Ne8GXzzj"
      },
      "source": [
        "Остались только нужные нам слова, некоторые из них встречаются часто, некоторые редко"
      ]
    },
    {
      "cell_type": "markdown",
      "metadata": {
        "id": "2vJThiT-TjZd"
      },
      "source": [
        "Поправим орфографию с помощью библиотеки textblob"
      ]
    },
    {
      "cell_type": "code",
      "metadata": {
        "id": "dxCawtd3W7yf"
      },
      "source": [
        "def spell_correction(df):\n",
        "    return df['tweet'][:5].apply(lambda x: str(TextBlob(x).correct()))"
      ],
      "execution_count": null,
      "outputs": []
    },
    {
      "cell_type": "code",
      "metadata": {
        "colab": {
          "base_uri": "https://localhost:8080/"
        },
        "id": "6OvuuIhvXNK8",
        "outputId": "8e02b2a1-10b8-46e0-f08e-be6d76909ff0"
      },
      "source": [
        "spell_correction(df_train)\n",
        "spell_correction(df_test)"
      ],
      "execution_count": null,
      "outputs": [
        {
          "output_type": "execute_result",
          "data": {
            "text/plain": [
              "0    studiolife dislike requires passion education ...\n",
              "1    user white supremacists want everyone see new ...\n",
              "2    safe ways heal acne altwaystoheal healthy healing\n",
              "3    he cursed child book reservations already yes ...\n",
              "4    rd midday amazing hilarious nephew epi their u...\n",
              "Name: tweet, dtype: object"
            ]
          },
          "metadata": {},
          "execution_count": 17
        }
      ]
    },
    {
      "cell_type": "code",
      "metadata": {
        "colab": {
          "base_uri": "https://localhost:8080/"
        },
        "id": "DOIIQOj3T_Om",
        "outputId": "4565ec1f-f36d-496d-99a4-30bcb173ad5f"
      },
      "source": [
        "# сколько знаков в твите (трейн)\n",
        "df_train['tweet'].str.len()"
      ],
      "execution_count": null,
      "outputs": [
        {
          "output_type": "execute_result",
          "data": {
            "text/plain": [
              "0        60\n",
              "1        92\n",
              "2        14\n",
              "3        37\n",
              "4        29\n",
              "         ..\n",
              "31957    29\n",
              "31958    93\n",
              "31959    47\n",
              "31960    52\n",
              "31961    17\n",
              "Name: tweet, Length: 31962, dtype: int64"
            ]
          },
          "metadata": {},
          "execution_count": 18
        }
      ]
    },
    {
      "cell_type": "code",
      "metadata": {
        "colab": {
          "base_uri": "https://localhost:8080/"
        },
        "id": "JbFug5mVYgm4",
        "outputId": "8689ab92-0c39-440a-ef45-d81b2b6d9b6e"
      },
      "source": [
        "# сколько слов твите (трейн)\n",
        "df_train['tweet'].apply(lambda x: len(str(x).split(\" \")))"
      ],
      "execution_count": null,
      "outputs": [
        {
          "output_type": "execute_result",
          "data": {
            "text/plain": [
              "0         8\n",
              "1        14\n",
              "2         2\n",
              "3         9\n",
              "4         3\n",
              "         ..\n",
              "31957     4\n",
              "31958    14\n",
              "31959     8\n",
              "31960     8\n",
              "31961     3\n",
              "Name: tweet, Length: 31962, dtype: int64"
            ]
          },
          "metadata": {},
          "execution_count": 19
        }
      ]
    },
    {
      "cell_type": "code",
      "metadata": {
        "colab": {
          "base_uri": "https://localhost:8080/"
        },
        "id": "D2xZWnO-cXSW",
        "outputId": "373332d5-d2ba-491b-8cd6-f6e125277a84"
      },
      "source": [
        "# сколько хештегов в твите\n",
        "df_train['tweet'].apply(lambda x: len([x for x in x.split() if x.startswith('#')]))"
      ],
      "execution_count": null,
      "outputs": [
        {
          "output_type": "execute_result",
          "data": {
            "text/plain": [
              "0        0\n",
              "1        0\n",
              "2        0\n",
              "3        0\n",
              "4        0\n",
              "        ..\n",
              "31957    0\n",
              "31958    0\n",
              "31959    0\n",
              "31960    0\n",
              "31961    0\n",
              "Name: tweet, Length: 31962, dtype: int64"
            ]
          },
          "metadata": {},
          "execution_count": 20
        }
      ]
    },
    {
      "cell_type": "code",
      "metadata": {
        "colab": {
          "base_uri": "https://localhost:8080/"
        },
        "id": "2EkUo7Zqd44R",
        "outputId": "f9256c28-864c-4468-feca-44291702b163"
      },
      "source": [
        "#  сколько чисел в твите\n",
        "df_train['tweet'].apply(lambda x: len([x for x in x.split() if x.isdigit()]))"
      ],
      "execution_count": null,
      "outputs": [
        {
          "output_type": "execute_result",
          "data": {
            "text/plain": [
              "0        0\n",
              "1        0\n",
              "2        0\n",
              "3        0\n",
              "4        0\n",
              "        ..\n",
              "31957    0\n",
              "31958    0\n",
              "31959    0\n",
              "31960    0\n",
              "31961    0\n",
              "Name: tweet, Length: 31962, dtype: int64"
            ]
          },
          "metadata": {},
          "execution_count": 21
        }
      ]
    },
    {
      "cell_type": "markdown",
      "metadata": {
        "id": "rryC-SRWeRor"
      },
      "source": [
        "Для более наглядной картины результат каждого дейтсвия можно записать в отдельную колонку в наш df и отсортировать, чтобы увидеть твиты, которые содержат в себе все эти знаки числа и тд"
      ]
    },
    {
      "cell_type": "code",
      "metadata": {
        "colab": {
          "base_uri": "https://localhost:8080/"
        },
        "id": "9bOCVz7sNUaA",
        "outputId": "90186645-fe17-4b1e-87fc-ed60efc97914"
      },
      "source": [
        "df_train[df_train['label']==1].info()\n"
      ],
      "execution_count": null,
      "outputs": [
        {
          "output_type": "stream",
          "name": "stdout",
          "text": [
            "<class 'pandas.core.frame.DataFrame'>\n",
            "Int64Index: 2242 entries, 13 to 31960\n",
            "Data columns (total 3 columns):\n",
            " #   Column  Non-Null Count  Dtype \n",
            "---  ------  --------------  ----- \n",
            " 0   id      2242 non-null   int64 \n",
            " 1   label   2242 non-null   int64 \n",
            " 2   tweet   2242 non-null   object\n",
            "dtypes: int64(2), object(1)\n",
            "memory usage: 70.1+ KB\n"
          ]
        }
      ]
    },
    {
      "cell_type": "code",
      "metadata": {
        "colab": {
          "base_uri": "https://localhost:8080/"
        },
        "id": "KyP9n6p8Njaj",
        "outputId": "0d0002ea-faf5-4d51-a929-6f6da8a8767e"
      },
      "source": [
        "df_train[df_train['label']==0].info()"
      ],
      "execution_count": null,
      "outputs": [
        {
          "output_type": "stream",
          "name": "stdout",
          "text": [
            "<class 'pandas.core.frame.DataFrame'>\n",
            "Int64Index: 29720 entries, 0 to 31961\n",
            "Data columns (total 3 columns):\n",
            " #   Column  Non-Null Count  Dtype \n",
            "---  ------  --------------  ----- \n",
            " 0   id      29720 non-null  int64 \n",
            " 1   label   29720 non-null  int64 \n",
            " 2   tweet   29720 non-null  object\n",
            "dtypes: int64(2), object(1)\n",
            "memory usage: 928.8+ KB\n"
          ]
        }
      ]
    },
    {
      "cell_type": "markdown",
      "metadata": {
        "id": "fv0Kmprx4Ww5"
      },
      "source": [
        "Тем не менее, давайте посмотрим еще другие инструменты и возможности работы с текстами"
      ]
    },
    {
      "cell_type": "markdown",
      "metadata": {
        "id": "OreAChMQ4kK3"
      },
      "source": [
        "N-grams \n",
        "\n",
        "Основной принцип, лежащий в основе n-граммов, заключается в том, что они фиксируют структуру языка, например, какая буква или слово может следовать за данной.\n",
        "\n",
        "Чем длиннее n-грамм (чем выше n), тем больше контекста вам нужно работать. Оптимальная длина действительно зависит от приложения - если ваши n-граммы слишком короткие, вы можете не уловить важные различия. С другой стороны, если они будут слишком длинными, вы можете не уловить «общие знания» и ограничиться конкретными случаями.\n",
        "Теперь мы извлечем биграммы из наших твитов, используя функцию ngrams библиотеки textblob.\n",
        "\n"
      ]
    },
    {
      "cell_type": "code",
      "metadata": {
        "colab": {
          "base_uri": "https://localhost:8080/"
        },
        "id": "UEh2iVy73yOe",
        "outputId": "4aa9f427-593f-460d-c8bc-d4b2f9037a28"
      },
      "source": [
        "nltk.download('punkt')\n",
        "def combination_of_words(df):\n",
        "    return (TextBlob(df['tweet'][0]).ngrams(2))"
      ],
      "execution_count": null,
      "outputs": [
        {
          "output_type": "stream",
          "name": "stdout",
          "text": [
            "[nltk_data] Downloading package punkt to /root/nltk_data...\n",
            "[nltk_data]   Unzipping tokenizers/punkt.zip.\n"
          ]
        }
      ]
    },
    {
      "cell_type": "code",
      "metadata": {
        "colab": {
          "base_uri": "https://localhost:8080/"
        },
        "id": "lptUhiOD5Xwj",
        "outputId": "f1bec399-b24c-437b-8afb-9e17879f47df"
      },
      "source": [
        "combination_of_words(df_train)"
      ],
      "execution_count": null,
      "outputs": [
        {
          "output_type": "execute_result",
          "data": {
            "text/plain": [
              "[WordList(['user', 'father']),\n",
              " WordList(['father', 'dysfunctional']),\n",
              " WordList(['dysfunctional', 'selfish']),\n",
              " WordList(['selfish', 'drags']),\n",
              " WordList(['drags', 'kids']),\n",
              " WordList(['kids', 'dysfunction']),\n",
              " WordList(['dysfunction', 'run'])]"
            ]
          },
          "metadata": {},
          "execution_count": 48
        }
      ]
    },
    {
      "cell_type": "code",
      "metadata": {
        "colab": {
          "base_uri": "https://localhost:8080/"
        },
        "id": "9wBp1Pin5a1O",
        "outputId": "52014605-f4db-4e94-bfb0-ee330cc5a306"
      },
      "source": [
        "combination_of_words(df_test)"
      ],
      "execution_count": null,
      "outputs": [
        {
          "output_type": "execute_result",
          "data": {
            "text/plain": [
              "[WordList(['studiolife', 'aislife']),\n",
              " WordList(['aislife', 'requires']),\n",
              " WordList(['requires', 'passion']),\n",
              " WordList(['passion', 'dedication']),\n",
              " WordList(['dedication', 'willpower']),\n",
              " WordList(['willpower', 'find']),\n",
              " WordList(['find', 'newmaterialsâ'])]"
            ]
          },
          "metadata": {},
          "execution_count": 49
        }
      ]
    },
    {
      "cell_type": "markdown",
      "metadata": {
        "id": "QRmsNQyC6KWR"
      },
      "source": [
        "Term Frequency \n",
        "\n",
        "TF = (количество раз, когда термин T появляется в конкретной строке) / (количество терминов в этой строке)\n",
        "\n"
      ]
    },
    {
      "cell_type": "code",
      "metadata": {
        "colab": {
          "base_uri": "https://localhost:8080/",
          "height": 452
        },
        "id": "rheIjsHE5uW8",
        "outputId": "bb941543-b6dd-42e3-c269-2c8843176750"
      },
      "source": [
        "tf_train = df_train['tweet'][1:2].apply(lambda x: pd.value_counts(x.split())/len(x.split())).sum(axis=0).reset_index()\n",
        "tf_train.columns = ['words', 'tf']\n",
        "tf_train"
      ],
      "execution_count": null,
      "outputs": [
        {
          "output_type": "execute_result",
          "data": {
            "text/html": [
              "<div>\n",
              "<style scoped>\n",
              "    .dataframe tbody tr th:only-of-type {\n",
              "        vertical-align: middle;\n",
              "    }\n",
              "\n",
              "    .dataframe tbody tr th {\n",
              "        vertical-align: top;\n",
              "    }\n",
              "\n",
              "    .dataframe thead th {\n",
              "        text-align: right;\n",
              "    }\n",
              "</style>\n",
              "<table border=\"1\" class=\"dataframe\">\n",
              "  <thead>\n",
              "    <tr style=\"text-align: right;\">\n",
              "      <th></th>\n",
              "      <th>words</th>\n",
              "      <th>tf</th>\n",
              "    </tr>\n",
              "  </thead>\n",
              "  <tbody>\n",
              "    <tr>\n",
              "      <th>0</th>\n",
              "      <td>user</td>\n",
              "      <td>0.142857</td>\n",
              "    </tr>\n",
              "    <tr>\n",
              "      <th>1</th>\n",
              "      <td>offer</td>\n",
              "      <td>0.071429</td>\n",
              "    </tr>\n",
              "    <tr>\n",
              "      <th>2</th>\n",
              "      <td>disapointed</td>\n",
              "      <td>0.071429</td>\n",
              "    </tr>\n",
              "    <tr>\n",
              "      <th>3</th>\n",
              "      <td>use</td>\n",
              "      <td>0.071429</td>\n",
              "    </tr>\n",
              "    <tr>\n",
              "      <th>4</th>\n",
              "      <td>wheelchair</td>\n",
              "      <td>0.071429</td>\n",
              "    </tr>\n",
              "    <tr>\n",
              "      <th>5</th>\n",
              "      <td>lyft</td>\n",
              "      <td>0.071429</td>\n",
              "    </tr>\n",
              "    <tr>\n",
              "      <th>6</th>\n",
              "      <td>vans</td>\n",
              "      <td>0.071429</td>\n",
              "    </tr>\n",
              "    <tr>\n",
              "      <th>7</th>\n",
              "      <td>credit</td>\n",
              "      <td>0.071429</td>\n",
              "    </tr>\n",
              "    <tr>\n",
              "      <th>8</th>\n",
              "      <td>pdx</td>\n",
              "      <td>0.071429</td>\n",
              "    </tr>\n",
              "    <tr>\n",
              "      <th>9</th>\n",
              "      <td>thanks</td>\n",
              "      <td>0.071429</td>\n",
              "    </tr>\n",
              "    <tr>\n",
              "      <th>10</th>\n",
              "      <td>getthanked</td>\n",
              "      <td>0.071429</td>\n",
              "    </tr>\n",
              "    <tr>\n",
              "      <th>11</th>\n",
              "      <td>cant</td>\n",
              "      <td>0.071429</td>\n",
              "    </tr>\n",
              "    <tr>\n",
              "      <th>12</th>\n",
              "      <td>cause</td>\n",
              "      <td>0.071429</td>\n",
              "    </tr>\n",
              "  </tbody>\n",
              "</table>\n",
              "</div>"
            ],
            "text/plain": [
              "          words        tf\n",
              "0          user  0.142857\n",
              "1         offer  0.071429\n",
              "2   disapointed  0.071429\n",
              "3           use  0.071429\n",
              "4    wheelchair  0.071429\n",
              "5          lyft  0.071429\n",
              "6          vans  0.071429\n",
              "7        credit  0.071429\n",
              "8           pdx  0.071429\n",
              "9        thanks  0.071429\n",
              "10   getthanked  0.071429\n",
              "11         cant  0.071429\n",
              "12        cause  0.071429"
            ]
          },
          "metadata": {},
          "execution_count": 50
        }
      ]
    },
    {
      "cell_type": "code",
      "metadata": {
        "colab": {
          "base_uri": "https://localhost:8080/",
          "height": 390
        },
        "id": "UYZRK2v66crR",
        "outputId": "0e6e5df3-fb6b-456e-eace-9fb34a65124b"
      },
      "source": [
        "tf_test = df_test['tweet'][1:2].apply(lambda x: pd.value_counts(x.split())/len(x.split())).sum(axis=0).reset_index()\n",
        "tf_test.columns = ['words', 'tf']\n",
        "tf_test"
      ],
      "execution_count": null,
      "outputs": [
        {
          "output_type": "execute_result",
          "data": {
            "text/html": [
              "<div>\n",
              "<style scoped>\n",
              "    .dataframe tbody tr th:only-of-type {\n",
              "        vertical-align: middle;\n",
              "    }\n",
              "\n",
              "    .dataframe tbody tr th {\n",
              "        vertical-align: top;\n",
              "    }\n",
              "\n",
              "    .dataframe thead th {\n",
              "        text-align: right;\n",
              "    }\n",
              "</style>\n",
              "<table border=\"1\" class=\"dataframe\">\n",
              "  <thead>\n",
              "    <tr style=\"text-align: right;\">\n",
              "      <th></th>\n",
              "      <th>words</th>\n",
              "      <th>tf</th>\n",
              "    </tr>\n",
              "  </thead>\n",
              "  <tbody>\n",
              "    <tr>\n",
              "      <th>0</th>\n",
              "      <td>â</td>\n",
              "      <td>0.166667</td>\n",
              "    </tr>\n",
              "    <tr>\n",
              "      <th>1</th>\n",
              "      <td>hereâs</td>\n",
              "      <td>0.083333</td>\n",
              "    </tr>\n",
              "    <tr>\n",
              "      <th>2</th>\n",
              "      <td>user</td>\n",
              "      <td>0.083333</td>\n",
              "    </tr>\n",
              "    <tr>\n",
              "      <th>3</th>\n",
              "      <td>birdsâ</td>\n",
              "      <td>0.083333</td>\n",
              "    </tr>\n",
              "    <tr>\n",
              "      <th>4</th>\n",
              "      <td>supremacists</td>\n",
              "      <td>0.083333</td>\n",
              "    </tr>\n",
              "    <tr>\n",
              "      <th>5</th>\n",
              "      <td>movie</td>\n",
              "      <td>0.083333</td>\n",
              "    </tr>\n",
              "    <tr>\n",
              "      <th>6</th>\n",
              "      <td>everyone</td>\n",
              "      <td>0.083333</td>\n",
              "    </tr>\n",
              "    <tr>\n",
              "      <th>7</th>\n",
              "      <td>white</td>\n",
              "      <td>0.083333</td>\n",
              "    </tr>\n",
              "    <tr>\n",
              "      <th>8</th>\n",
              "      <td>want</td>\n",
              "      <td>0.083333</td>\n",
              "    </tr>\n",
              "    <tr>\n",
              "      <th>9</th>\n",
              "      <td>new</td>\n",
              "      <td>0.083333</td>\n",
              "    </tr>\n",
              "    <tr>\n",
              "      <th>10</th>\n",
              "      <td>see</td>\n",
              "      <td>0.083333</td>\n",
              "    </tr>\n",
              "  </tbody>\n",
              "</table>\n",
              "</div>"
            ],
            "text/plain": [
              "           words        tf\n",
              "0              â  0.166667\n",
              "1         hereâs  0.083333\n",
              "2           user  0.083333\n",
              "3         birdsâ  0.083333\n",
              "4   supremacists  0.083333\n",
              "5          movie  0.083333\n",
              "6       everyone  0.083333\n",
              "7          white  0.083333\n",
              "8           want  0.083333\n",
              "9            new  0.083333\n",
              "10           see  0.083333"
            ]
          },
          "metadata": {},
          "execution_count": 51
        }
      ]
    },
    {
      "cell_type": "markdown",
      "metadata": {
        "id": "4YAfpmm46w0Q"
      },
      "source": [
        "Inverse Document Frequency \n",
        "\n",
        "заключается в том, что слово не имеет особого смысла для нас, если оно встречается во всех документах.\n",
        "\n",
        "Следовательно, IDF каждого слова - это логарифм отношения общего количества строк к количеству строк, в которых это слово присутствует.\n",
        "\n",
        "IDF = log(N / n),\n",
        "\n",
        "где N - общее количество строк, а n - количество строк, в которых присутствовало слово.\n"
      ]
    },
    {
      "cell_type": "code",
      "metadata": {
        "id": "vQ5fcx3o-4jL"
      },
      "source": [
        "def tf(tf, df):\n",
        "  (df['tweet'][1:2]).apply(lambda x: pd.value_counts(x.split(\" \"))).sum(axis = 0).reset_index()\n",
        "  tf.columns = ['words','tf']\n",
        "  return tf.head()"
      ],
      "execution_count": null,
      "outputs": []
    },
    {
      "cell_type": "code",
      "metadata": {
        "colab": {
          "base_uri": "https://localhost:8080/",
          "height": 204
        },
        "id": "aXaIWtfe_KBd",
        "outputId": "3c19b1a2-bf9a-4c38-c002-bdd672fd25b9"
      },
      "source": [
        "tf(tf_train, df_train)"
      ],
      "execution_count": null,
      "outputs": [
        {
          "output_type": "execute_result",
          "data": {
            "text/html": [
              "<div>\n",
              "<style scoped>\n",
              "    .dataframe tbody tr th:only-of-type {\n",
              "        vertical-align: middle;\n",
              "    }\n",
              "\n",
              "    .dataframe tbody tr th {\n",
              "        vertical-align: top;\n",
              "    }\n",
              "\n",
              "    .dataframe thead th {\n",
              "        text-align: right;\n",
              "    }\n",
              "</style>\n",
              "<table border=\"1\" class=\"dataframe\">\n",
              "  <thead>\n",
              "    <tr style=\"text-align: right;\">\n",
              "      <th></th>\n",
              "      <th>words</th>\n",
              "      <th>tf</th>\n",
              "    </tr>\n",
              "  </thead>\n",
              "  <tbody>\n",
              "    <tr>\n",
              "      <th>0</th>\n",
              "      <td>user</td>\n",
              "      <td>2</td>\n",
              "    </tr>\n",
              "    <tr>\n",
              "      <th>1</th>\n",
              "      <td>offer</td>\n",
              "      <td>1</td>\n",
              "    </tr>\n",
              "    <tr>\n",
              "      <th>2</th>\n",
              "      <td>disapointed</td>\n",
              "      <td>1</td>\n",
              "    </tr>\n",
              "    <tr>\n",
              "      <th>3</th>\n",
              "      <td>use</td>\n",
              "      <td>1</td>\n",
              "    </tr>\n",
              "    <tr>\n",
              "      <th>4</th>\n",
              "      <td>wheelchair</td>\n",
              "      <td>1</td>\n",
              "    </tr>\n",
              "  </tbody>\n",
              "</table>\n",
              "</div>"
            ],
            "text/plain": [
              "         words  tf\n",
              "0         user   2\n",
              "1        offer   1\n",
              "2  disapointed   1\n",
              "3          use   1\n",
              "4   wheelchair   1"
            ]
          },
          "metadata": {},
          "execution_count": 58
        }
      ]
    },
    {
      "cell_type": "code",
      "metadata": {
        "colab": {
          "base_uri": "https://localhost:8080/",
          "height": 204
        },
        "id": "9RreKdN478xg",
        "outputId": "bc8e662c-f21b-473d-8b34-9a0960979eea"
      },
      "source": [
        "tf(tf_test, df_test)"
      ],
      "execution_count": null,
      "outputs": [
        {
          "output_type": "execute_result",
          "data": {
            "text/html": [
              "<div>\n",
              "<style scoped>\n",
              "    .dataframe tbody tr th:only-of-type {\n",
              "        vertical-align: middle;\n",
              "    }\n",
              "\n",
              "    .dataframe tbody tr th {\n",
              "        vertical-align: top;\n",
              "    }\n",
              "\n",
              "    .dataframe thead th {\n",
              "        text-align: right;\n",
              "    }\n",
              "</style>\n",
              "<table border=\"1\" class=\"dataframe\">\n",
              "  <thead>\n",
              "    <tr style=\"text-align: right;\">\n",
              "      <th></th>\n",
              "      <th>words</th>\n",
              "      <th>tf</th>\n",
              "    </tr>\n",
              "  </thead>\n",
              "  <tbody>\n",
              "    <tr>\n",
              "      <th>0</th>\n",
              "      <td>â</td>\n",
              "      <td>2</td>\n",
              "    </tr>\n",
              "    <tr>\n",
              "      <th>1</th>\n",
              "      <td>hereâs</td>\n",
              "      <td>1</td>\n",
              "    </tr>\n",
              "    <tr>\n",
              "      <th>2</th>\n",
              "      <td>user</td>\n",
              "      <td>1</td>\n",
              "    </tr>\n",
              "    <tr>\n",
              "      <th>3</th>\n",
              "      <td>birdsâ</td>\n",
              "      <td>1</td>\n",
              "    </tr>\n",
              "    <tr>\n",
              "      <th>4</th>\n",
              "      <td>supremacists</td>\n",
              "      <td>1</td>\n",
              "    </tr>\n",
              "  </tbody>\n",
              "</table>\n",
              "</div>"
            ],
            "text/plain": [
              "          words  tf\n",
              "0             â   2\n",
              "1        hereâs   1\n",
              "2          user   1\n",
              "3        birdsâ   1\n",
              "4  supremacists   1"
            ]
          },
          "metadata": {},
          "execution_count": 59
        }
      ]
    },
    {
      "cell_type": "markdown",
      "metadata": {
        "id": "2q2aVCS1_Uv3"
      },
      "source": [
        "TF-IDF\n",
        "\n",
        "TF-IDF - это умножение TF и ​​IDF, которое мы снова вычислили ниже для удобства."
      ]
    },
    {
      "cell_type": "code",
      "metadata": {
        "id": "9_K7FF1I_do3"
      },
      "source": [
        "def tf_idf(df):\n",
        "  tf1 = (df['tweet'][1:2]).apply(lambda x: pd.value_counts(x.split(\" \"))).sum(axis = 0).reset_index()\n",
        "  tf1.columns = ['words','tf']\n",
        "  for i,word in enumerate(tf1['words']):\n",
        "    tf1.loc[i, 'idf'] = np.log(df.shape[0]/(len(df[df['tweet'].str.contains(word)])))\n",
        "  tf1['tfidf'] = tf1['tf'] * tf1['idf']\n",
        "  return tf1"
      ],
      "execution_count": null,
      "outputs": []
    },
    {
      "cell_type": "code",
      "metadata": {
        "colab": {
          "base_uri": "https://localhost:8080/",
          "height": 452
        },
        "id": "RamBkLVcAd-E",
        "outputId": "cac7018a-e7e0-41db-d163-7971586289e3"
      },
      "source": [
        "tf_idf(df_train)"
      ],
      "execution_count": null,
      "outputs": [
        {
          "output_type": "execute_result",
          "data": {
            "text/html": [
              "<div>\n",
              "<style scoped>\n",
              "    .dataframe tbody tr th:only-of-type {\n",
              "        vertical-align: middle;\n",
              "    }\n",
              "\n",
              "    .dataframe tbody tr th {\n",
              "        vertical-align: top;\n",
              "    }\n",
              "\n",
              "    .dataframe thead th {\n",
              "        text-align: right;\n",
              "    }\n",
              "</style>\n",
              "<table border=\"1\" class=\"dataframe\">\n",
              "  <thead>\n",
              "    <tr style=\"text-align: right;\">\n",
              "      <th></th>\n",
              "      <th>words</th>\n",
              "      <th>tf</th>\n",
              "      <th>idf</th>\n",
              "      <th>tfidf</th>\n",
              "    </tr>\n",
              "  </thead>\n",
              "  <tbody>\n",
              "    <tr>\n",
              "      <th>0</th>\n",
              "      <td>user</td>\n",
              "      <td>2</td>\n",
              "      <td>1.054454</td>\n",
              "      <td>2.108909</td>\n",
              "    </tr>\n",
              "    <tr>\n",
              "      <th>1</th>\n",
              "      <td>offer</td>\n",
              "      <td>1</td>\n",
              "      <td>6.522155</td>\n",
              "      <td>6.522155</td>\n",
              "    </tr>\n",
              "    <tr>\n",
              "      <th>2</th>\n",
              "      <td>disapointed</td>\n",
              "      <td>1</td>\n",
              "      <td>10.372303</td>\n",
              "      <td>10.372303</td>\n",
              "    </tr>\n",
              "    <tr>\n",
              "      <th>3</th>\n",
              "      <td>use</td>\n",
              "      <td>1</td>\n",
              "      <td>1.005985</td>\n",
              "      <td>1.005985</td>\n",
              "    </tr>\n",
              "    <tr>\n",
              "      <th>4</th>\n",
              "      <td>wheelchair</td>\n",
              "      <td>1</td>\n",
              "      <td>9.273691</td>\n",
              "      <td>9.273691</td>\n",
              "    </tr>\n",
              "    <tr>\n",
              "      <th>5</th>\n",
              "      <td>lyft</td>\n",
              "      <td>1</td>\n",
              "      <td>8.762865</td>\n",
              "      <td>8.762865</td>\n",
              "    </tr>\n",
              "    <tr>\n",
              "      <th>6</th>\n",
              "      <td>vans</td>\n",
              "      <td>1</td>\n",
              "      <td>8.426393</td>\n",
              "      <td>8.426393</td>\n",
              "    </tr>\n",
              "    <tr>\n",
              "      <th>7</th>\n",
              "      <td>credit</td>\n",
              "      <td>1</td>\n",
              "      <td>7.327781</td>\n",
              "      <td>7.327781</td>\n",
              "    </tr>\n",
              "    <tr>\n",
              "      <th>8</th>\n",
              "      <td>pdx</td>\n",
              "      <td>1</td>\n",
              "      <td>8.762865</td>\n",
              "      <td>8.762865</td>\n",
              "    </tr>\n",
              "    <tr>\n",
              "      <th>9</th>\n",
              "      <td>thanks</td>\n",
              "      <td>1</td>\n",
              "      <td>4.597751</td>\n",
              "      <td>4.597751</td>\n",
              "    </tr>\n",
              "    <tr>\n",
              "      <th>10</th>\n",
              "      <td>getthanked</td>\n",
              "      <td>1</td>\n",
              "      <td>9.679156</td>\n",
              "      <td>9.679156</td>\n",
              "    </tr>\n",
              "    <tr>\n",
              "      <th>11</th>\n",
              "      <td>cant</td>\n",
              "      <td>1</td>\n",
              "      <td>3.538194</td>\n",
              "      <td>3.538194</td>\n",
              "    </tr>\n",
              "    <tr>\n",
              "      <th>12</th>\n",
              "      <td>cause</td>\n",
              "      <td>1</td>\n",
              "      <td>5.610129</td>\n",
              "      <td>5.610129</td>\n",
              "    </tr>\n",
              "  </tbody>\n",
              "</table>\n",
              "</div>"
            ],
            "text/plain": [
              "          words  tf        idf      tfidf\n",
              "0          user   2   1.054454   2.108909\n",
              "1         offer   1   6.522155   6.522155\n",
              "2   disapointed   1  10.372303  10.372303\n",
              "3           use   1   1.005985   1.005985\n",
              "4    wheelchair   1   9.273691   9.273691\n",
              "5          lyft   1   8.762865   8.762865\n",
              "6          vans   1   8.426393   8.426393\n",
              "7        credit   1   7.327781   7.327781\n",
              "8           pdx   1   8.762865   8.762865\n",
              "9        thanks   1   4.597751   4.597751\n",
              "10   getthanked   1   9.679156   9.679156\n",
              "11         cant   1   3.538194   3.538194\n",
              "12        cause   1   5.610129   5.610129"
            ]
          },
          "metadata": {},
          "execution_count": 61
        }
      ]
    },
    {
      "cell_type": "markdown",
      "metadata": {
        "id": "XfQztWidU0WZ"
      },
      "source": [
        "Мы видим, что TF-IDF наказала такие слова, как «не могу» и «использовать», потому что они часто встречаются. Тем не менее, он придал большое значение «разочарованию», так как это будет очень полезно для определения настроения твита.\n"
      ]
    },
    {
      "cell_type": "code",
      "metadata": {
        "colab": {
          "base_uri": "https://localhost:8080/",
          "height": 390
        },
        "id": "DtCOIcGCAhHU",
        "outputId": "68e4374b-c6a0-425b-b81f-65f224c326e9"
      },
      "source": [
        "tf_idf(df_test)"
      ],
      "execution_count": null,
      "outputs": [
        {
          "output_type": "execute_result",
          "data": {
            "text/html": [
              "<div>\n",
              "<style scoped>\n",
              "    .dataframe tbody tr th:only-of-type {\n",
              "        vertical-align: middle;\n",
              "    }\n",
              "\n",
              "    .dataframe tbody tr th {\n",
              "        vertical-align: top;\n",
              "    }\n",
              "\n",
              "    .dataframe thead th {\n",
              "        text-align: right;\n",
              "    }\n",
              "</style>\n",
              "<table border=\"1\" class=\"dataframe\">\n",
              "  <thead>\n",
              "    <tr style=\"text-align: right;\">\n",
              "      <th></th>\n",
              "      <th>words</th>\n",
              "      <th>tf</th>\n",
              "      <th>idf</th>\n",
              "      <th>tfidf</th>\n",
              "    </tr>\n",
              "  </thead>\n",
              "  <tbody>\n",
              "    <tr>\n",
              "      <th>0</th>\n",
              "      <td>â</td>\n",
              "      <td>2</td>\n",
              "      <td>1.548912</td>\n",
              "      <td>3.097825</td>\n",
              "    </tr>\n",
              "    <tr>\n",
              "      <th>1</th>\n",
              "      <td>hereâs</td>\n",
              "      <td>1</td>\n",
              "      <td>9.059343</td>\n",
              "      <td>9.059343</td>\n",
              "    </tr>\n",
              "    <tr>\n",
              "      <th>2</th>\n",
              "      <td>user</td>\n",
              "      <td>1</td>\n",
              "      <td>1.034808</td>\n",
              "      <td>1.034808</td>\n",
              "    </tr>\n",
              "    <tr>\n",
              "      <th>3</th>\n",
              "      <td>birdsâ</td>\n",
              "      <td>1</td>\n",
              "      <td>9.752490</td>\n",
              "      <td>9.752490</td>\n",
              "    </tr>\n",
              "    <tr>\n",
              "      <th>4</th>\n",
              "      <td>supremacists</td>\n",
              "      <td>1</td>\n",
              "      <td>9.752490</td>\n",
              "      <td>9.752490</td>\n",
              "    </tr>\n",
              "    <tr>\n",
              "      <th>5</th>\n",
              "      <td>movie</td>\n",
              "      <td>1</td>\n",
              "      <td>5.275153</td>\n",
              "      <td>5.275153</td>\n",
              "    </tr>\n",
              "    <tr>\n",
              "      <th>6</th>\n",
              "      <td>everyone</td>\n",
              "      <td>1</td>\n",
              "      <td>4.622592</td>\n",
              "      <td>4.622592</td>\n",
              "    </tr>\n",
              "    <tr>\n",
              "      <th>7</th>\n",
              "      <td>white</td>\n",
              "      <td>1</td>\n",
              "      <td>4.381852</td>\n",
              "      <td>4.381852</td>\n",
              "    </tr>\n",
              "    <tr>\n",
              "      <th>8</th>\n",
              "      <td>want</td>\n",
              "      <td>1</td>\n",
              "      <td>3.693367</td>\n",
              "      <td>3.693367</td>\n",
              "    </tr>\n",
              "    <tr>\n",
              "      <th>9</th>\n",
              "      <td>new</td>\n",
              "      <td>1</td>\n",
              "      <td>3.032270</td>\n",
              "      <td>3.032270</td>\n",
              "    </tr>\n",
              "    <tr>\n",
              "      <th>10</th>\n",
              "      <td>see</td>\n",
              "      <td>1</td>\n",
              "      <td>3.429925</td>\n",
              "      <td>3.429925</td>\n",
              "    </tr>\n",
              "  </tbody>\n",
              "</table>\n",
              "</div>"
            ],
            "text/plain": [
              "           words  tf       idf     tfidf\n",
              "0              â   2  1.548912  3.097825\n",
              "1         hereâs   1  9.059343  9.059343\n",
              "2           user   1  1.034808  1.034808\n",
              "3         birdsâ   1  9.752490  9.752490\n",
              "4   supremacists   1  9.752490  9.752490\n",
              "5          movie   1  5.275153  5.275153\n",
              "6       everyone   1  4.622592  4.622592\n",
              "7          white   1  4.381852  4.381852\n",
              "8           want   1  3.693367  3.693367\n",
              "9            new   1  3.032270  3.032270\n",
              "10           see   1  3.429925  3.429925"
            ]
          },
          "metadata": {},
          "execution_count": 62
        }
      ]
    },
    {
      "cell_type": "markdown",
      "metadata": {
        "id": "YBPV4kAwArEm"
      },
      "source": [
        "Нам не нужно каждый раз заранее рассчитывать TF и ​​IDF, а затем умножать их, чтобы получить TF-IDF. Вместо этого у sklearn есть отдельная функция для его непосредственного получения:"
      ]
    },
    {
      "cell_type": "code",
      "metadata": {
        "id": "vEjItddgAkAm"
      },
      "source": [
        "def tfidfvect(df):\n",
        "  tfidf = TfidfVectorizer(max_features=1000, lowercase=True, analyzer='word',\n",
        "  stop_words= 'english',ngram_range=(1,1))\n",
        "  train_vect = tfidf.fit_transform(df['tweet'])\n",
        "  return train_vect"
      ],
      "execution_count": null,
      "outputs": []
    },
    {
      "cell_type": "code",
      "metadata": {
        "colab": {
          "base_uri": "https://localhost:8080/"
        },
        "id": "TbM3WxoDA8x7",
        "outputId": "d78e265a-55ae-4ed4-9cc0-e3a49f9a41af"
      },
      "source": [
        "tfidfvect(df_train)"
      ],
      "execution_count": null,
      "outputs": [
        {
          "output_type": "execute_result",
          "data": {
            "text/plain": [
              "<31962x1000 sparse matrix of type '<class 'numpy.float64'>'\n",
              "\twith 128053 stored elements in Compressed Sparse Row format>"
            ]
          },
          "metadata": {},
          "execution_count": 65
        }
      ]
    },
    {
      "cell_type": "code",
      "metadata": {
        "colab": {
          "base_uri": "https://localhost:8080/"
        },
        "id": "XRmvrep7A_o4",
        "outputId": "a1b766ae-c0ac-42cd-f360-203488b107e5"
      },
      "source": [
        "tfidfvect(df_test)"
      ],
      "execution_count": null,
      "outputs": [
        {
          "output_type": "execute_result",
          "data": {
            "text/plain": [
              "<17197x1000 sparse matrix of type '<class 'numpy.float64'>'\n",
              "\twith 68906 stored elements in Compressed Sparse Row format>"
            ]
          },
          "metadata": {},
          "execution_count": 66
        }
      ]
    },
    {
      "cell_type": "markdown",
      "metadata": {
        "id": "fAAjXSjZBIbM"
      },
      "source": [
        "Bag of Words\n",
        "\n",
        "относится к представлению текста, которое описывает присутствие слов в текстовых данных. Логика заключается в том, что два похожих текстовых поля будут содержать одинаковые типы слов и, следовательно, будут иметь одинаковый набор слов. Кроме того, только по тексту мы можем кое-что узнать о значении документа."
      ]
    },
    {
      "cell_type": "code",
      "metadata": {
        "id": "eF9_wFzlBFF8"
      },
      "source": [
        "def bow(df):\n",
        "  bag_of_words = CountVectorizer(max_features=10000, lowercase=True, ngram_range=(1,1),analyzer = \"word\")\n",
        "  df_train_bag_of_words = bag_of_words.fit_transform(df['tweet'])\n",
        "  return df_train_bag_of_words"
      ],
      "execution_count": null,
      "outputs": []
    },
    {
      "cell_type": "code",
      "metadata": {
        "colab": {
          "base_uri": "https://localhost:8080/"
        },
        "id": "Rp8OaMq5BiAE",
        "outputId": "4ecd42a9-3ed7-41ca-d3c3-65eb8d5f84f8"
      },
      "source": [
        "bow(df_train)"
      ],
      "execution_count": null,
      "outputs": [
        {
          "output_type": "execute_result",
          "data": {
            "text/plain": [
              "<31962x10000 sparse matrix of type '<class 'numpy.int64'>'\n",
              "\twith 219626 stored elements in Compressed Sparse Row format>"
            ]
          },
          "metadata": {},
          "execution_count": 68
        }
      ]
    },
    {
      "cell_type": "code",
      "metadata": {
        "colab": {
          "base_uri": "https://localhost:8080/"
        },
        "id": "_VzRictDBkEt",
        "outputId": "9ffd0db1-1c6b-424c-affd-31a3b8b5b7e1"
      },
      "source": [
        "bow(df_test)"
      ],
      "execution_count": null,
      "outputs": [
        {
          "output_type": "execute_result",
          "data": {
            "text/plain": [
              "<17197x10000 sparse matrix of type '<class 'numpy.int64'>'\n",
              "\twith 119828 stored elements in Compressed Sparse Row format>"
            ]
          },
          "metadata": {},
          "execution_count": 69
        }
      ]
    },
    {
      "cell_type": "markdown",
      "metadata": {
        "id": "Hd3o1-UHBx3L"
      },
      "source": [
        "Sentiment Analysis\n",
        "\n",
        "Тональность твита"
      ]
    },
    {
      "cell_type": "code",
      "metadata": {
        "id": "NscuGQwxBlxs"
      },
      "source": [
        "def polarity_subjectivity(df):\n",
        "    return df['tweet'][:5].apply(lambda x: TextBlob(x).sentiment)"
      ],
      "execution_count": null,
      "outputs": []
    },
    {
      "cell_type": "code",
      "metadata": {
        "colab": {
          "base_uri": "https://localhost:8080/"
        },
        "id": "4mP_HoTYCEps",
        "outputId": "e36dd1d2-fc9f-4290-c6a8-6acf4f0b7df5"
      },
      "source": [
        "polarity_subjectivity(df_train)"
      ],
      "execution_count": null,
      "outputs": [
        {
          "output_type": "execute_result",
          "data": {
            "text/plain": [
              "0    (-0.5, 1.0)\n",
              "1     (0.2, 0.2)\n",
              "2     (0.0, 0.0)\n",
              "3     (0.5, 0.6)\n",
              "4     (0.0, 0.0)\n",
              "Name: tweet, dtype: object"
            ]
          },
          "metadata": {},
          "execution_count": 71
        }
      ]
    },
    {
      "cell_type": "code",
      "metadata": {
        "colab": {
          "base_uri": "https://localhost:8080/"
        },
        "id": "fH0KV1nbCOTc",
        "outputId": "24e79d8d-f9a7-4de0-f87b-4286c0d5c396"
      },
      "source": [
        "polarity_subjectivity(df_test)"
      ],
      "execution_count": null,
      "outputs": [
        {
          "output_type": "execute_result",
          "data": {
            "text/plain": [
              "0                                    (0.0, 0.0)\n",
              "1    (0.06818181818181818, 0.22727272727272727)\n",
              "2                                    (0.5, 0.5)\n",
              "3                                    (0.5, 1.0)\n",
              "4      (0.3666666666666667, 0.6333333333333333)\n",
              "Name: tweet, dtype: object"
            ]
          },
          "metadata": {},
          "execution_count": 72
        }
      ]
    },
    {
      "cell_type": "markdown",
      "metadata": {
        "id": "xzKzQHoSCWPv"
      },
      "source": [
        "Мы можем видеть, что он возвращает кортеж, представляющий полярность и субъективность каждого твита. Здесь мы извлекаем только полярность, поскольку она указывает на настроение, поскольку значение, близкое к 1, означает положительное настроение, а значения, близкие к -1, означает отрицательное настроение.\n",
        "\n",
        "Посмотрим на это в таблице"
      ]
    },
    {
      "cell_type": "code",
      "metadata": {
        "id": "v_aRLslBCQ5G"
      },
      "source": [
        "def sentiment_analysis(df):\n",
        "    df['sentiment'] = df['tweet'].apply(lambda x: TextBlob(x).sentiment[0] )\n",
        "    return df[['tweet','sentiment']].head()"
      ],
      "execution_count": null,
      "outputs": []
    },
    {
      "cell_type": "code",
      "metadata": {
        "colab": {
          "base_uri": "https://localhost:8080/",
          "height": 204
        },
        "id": "K1XQs0AwCcZq",
        "outputId": "d6be8a25-9f66-4ce3-fdc1-c75401705833"
      },
      "source": [
        "sentiment_analysis(df_train)"
      ],
      "execution_count": null,
      "outputs": [
        {
          "output_type": "execute_result",
          "data": {
            "text/html": [
              "<div>\n",
              "<style scoped>\n",
              "    .dataframe tbody tr th:only-of-type {\n",
              "        vertical-align: middle;\n",
              "    }\n",
              "\n",
              "    .dataframe tbody tr th {\n",
              "        vertical-align: top;\n",
              "    }\n",
              "\n",
              "    .dataframe thead th {\n",
              "        text-align: right;\n",
              "    }\n",
              "</style>\n",
              "<table border=\"1\" class=\"dataframe\">\n",
              "  <thead>\n",
              "    <tr style=\"text-align: right;\">\n",
              "      <th></th>\n",
              "      <th>tweet</th>\n",
              "      <th>sentiment</th>\n",
              "    </tr>\n",
              "  </thead>\n",
              "  <tbody>\n",
              "    <tr>\n",
              "      <th>0</th>\n",
              "      <td>user father dysfunctional selfish drags kids d...</td>\n",
              "      <td>-0.5</td>\n",
              "    </tr>\n",
              "    <tr>\n",
              "      <th>1</th>\n",
              "      <td>user user thanks lyft credit cant use cause of...</td>\n",
              "      <td>0.2</td>\n",
              "    </tr>\n",
              "    <tr>\n",
              "      <th>2</th>\n",
              "      <td>bihday majesty</td>\n",
              "      <td>0.0</td>\n",
              "    </tr>\n",
              "    <tr>\n",
              "      <th>3</th>\n",
              "      <td>model love u take u time urð ðððð ððð</td>\n",
              "      <td>0.5</td>\n",
              "    </tr>\n",
              "    <tr>\n",
              "      <th>4</th>\n",
              "      <td>factsguide society motivation</td>\n",
              "      <td>0.0</td>\n",
              "    </tr>\n",
              "  </tbody>\n",
              "</table>\n",
              "</div>"
            ],
            "text/plain": [
              "                                               tweet  sentiment\n",
              "0  user father dysfunctional selfish drags kids d...       -0.5\n",
              "1  user user thanks lyft credit cant use cause of...        0.2\n",
              "2                                     bihday majesty        0.0\n",
              "3              model love u take u time urð ðððð ððð        0.5\n",
              "4                      factsguide society motivation        0.0"
            ]
          },
          "metadata": {},
          "execution_count": 74
        }
      ]
    },
    {
      "cell_type": "code",
      "metadata": {
        "colab": {
          "base_uri": "https://localhost:8080/",
          "height": 204
        },
        "id": "PebXKh2lCeOa",
        "outputId": "37b3ae7d-3893-4b17-87c4-1b2db1c10933"
      },
      "source": [
        "sentiment_analysis(df_test)"
      ],
      "execution_count": null,
      "outputs": [
        {
          "output_type": "execute_result",
          "data": {
            "text/html": [
              "<div>\n",
              "<style scoped>\n",
              "    .dataframe tbody tr th:only-of-type {\n",
              "        vertical-align: middle;\n",
              "    }\n",
              "\n",
              "    .dataframe tbody tr th {\n",
              "        vertical-align: top;\n",
              "    }\n",
              "\n",
              "    .dataframe thead th {\n",
              "        text-align: right;\n",
              "    }\n",
              "</style>\n",
              "<table border=\"1\" class=\"dataframe\">\n",
              "  <thead>\n",
              "    <tr style=\"text-align: right;\">\n",
              "      <th></th>\n",
              "      <th>tweet</th>\n",
              "      <th>sentiment</th>\n",
              "    </tr>\n",
              "  </thead>\n",
              "  <tbody>\n",
              "    <tr>\n",
              "      <th>0</th>\n",
              "      <td>studiolife aislife requires passion dedication...</td>\n",
              "      <td>0.000000</td>\n",
              "    </tr>\n",
              "    <tr>\n",
              "      <th>1</th>\n",
              "      <td>user white supremacists want everyone see new ...</td>\n",
              "      <td>0.068182</td>\n",
              "    </tr>\n",
              "    <tr>\n",
              "      <th>2</th>\n",
              "      <td>safe ways heal acne altwaystoheal healthy healing</td>\n",
              "      <td>0.500000</td>\n",
              "    </tr>\n",
              "    <tr>\n",
              "      <th>3</th>\n",
              "      <td>hp cursed child book reservations already yes ...</td>\n",
              "      <td>0.500000</td>\n",
              "    </tr>\n",
              "    <tr>\n",
              "      <th>4</th>\n",
              "      <td>3rd bihday amazing hilarious nephew eli ahmir ...</td>\n",
              "      <td>0.366667</td>\n",
              "    </tr>\n",
              "  </tbody>\n",
              "</table>\n",
              "</div>"
            ],
            "text/plain": [
              "                                               tweet  sentiment\n",
              "0  studiolife aislife requires passion dedication...   0.000000\n",
              "1  user white supremacists want everyone see new ...   0.068182\n",
              "2  safe ways heal acne altwaystoheal healthy healing   0.500000\n",
              "3  hp cursed child book reservations already yes ...   0.500000\n",
              "4  3rd bihday amazing hilarious nephew eli ahmir ...   0.366667"
            ]
          },
          "metadata": {},
          "execution_count": 75
        }
      ]
    },
    {
      "cell_type": "markdown",
      "metadata": {
        "id": "GUcjU9YNEAvg"
      },
      "source": [
        "Попробуем поработать с наивным бейсовским классификатором и посмотрим, что получится"
      ]
    },
    {
      "cell_type": "markdown",
      "metadata": {
        "id": "1v75UrI4OzrG"
      },
      "source": [
        "Сбалансируем наши классы, взяв класс меньшинства ( df_train['label']==1 ) и увеличив его до размера класса большинства ( df_train['label']==0 )\n",
        "соединив его в новый df от которого будет отталкиваться в обучении"
      ]
    },
    {
      "cell_type": "code",
      "metadata": {
        "id": "VPF4_DEtNxo-"
      },
      "source": [
        "train_major = df_train[df_train['label']==0]\n",
        "train_minor = df_train[df_train['label']==1]\n",
        "\n",
        "df_minority_upsampled = resample(train_minor, \n",
        "                                 replace=True,    \n",
        "                                 n_samples=len(train_major), # размер класса преобладающего\n",
        "                                 random_state=100) # воспроизводимые результаты"
      ],
      "execution_count": null,
      "outputs": []
    },
    {
      "cell_type": "code",
      "metadata": {
        "id": "ZNOWfIR1SI5H"
      },
      "source": [
        "# сконкатим дф преоблающего класса и увеличенный до нужного размера дф меньшего класса\n",
        "df_upsampled = pd.concat([train_major, df_minority_upsampled])"
      ],
      "execution_count": null,
      "outputs": []
    },
    {
      "cell_type": "code",
      "metadata": {
        "id": "UEO_yW47S4K5"
      },
      "source": [
        "X_train, X_test, y_train, y_test = train_test_split(df_upsampled['tweet'],\n",
        "                                                    df_upsampled['label'],\n",
        "                                                    test_size=0.5,\n",
        "                                                    stratify=df_upsampled['label'])"
      ],
      "execution_count": null,
      "outputs": []
    },
    {
      "cell_type": "code",
      "metadata": {
        "id": "hPr11L33WLR-"
      },
      "source": [
        "# возьмем для начала полиноминальный вариант наивного бейсовского классификатора\n",
        "model = MultinomialNB()"
      ],
      "execution_count": null,
      "outputs": []
    },
    {
      "cell_type": "markdown",
      "metadata": {
        "id": "-485pppMvzQX"
      },
      "source": [
        "Преобразуем текстовые данные в числовые для обучения нашей модели"
      ]
    },
    {
      "cell_type": "code",
      "metadata": {
        "id": "5fHMnAzQuNon"
      },
      "source": [
        "vector = CountVectorizer()\n",
        "tf_train=vector.fit_transform(X_train)\n",
        "tf_test=vector.transform(X_test)  \n",
        "# получить те же кодировки для тестовых данных, что и для созданного  выше словаря"
      ],
      "execution_count": null,
      "outputs": []
    },
    {
      "cell_type": "code",
      "metadata": {
        "id": "BrMYC76DwAl_"
      },
      "source": [
        "# преобразуем так же для тестового датафрейма\n",
        "tf_test_for_test = vector.transform(df_test['tweet'])"
      ],
      "execution_count": null,
      "outputs": []
    },
    {
      "cell_type": "markdown",
      "metadata": {
        "id": "Qj6LrWe9w-yz"
      },
      "source": [
        "Обучим модель"
      ]
    },
    {
      "cell_type": "code",
      "metadata": {
        "colab": {
          "base_uri": "https://localhost:8080/"
        },
        "id": "n6ACLQCcwyFW",
        "outputId": "a318f0a5-9055-4f6c-c3ae-d934744c0fd1"
      },
      "source": [
        "model.fit(X=tf_train,y=y_train)"
      ],
      "execution_count": null,
      "outputs": [
        {
          "output_type": "execute_result",
          "data": {
            "text/plain": [
              "MultinomialNB(alpha=1.0, class_prior=None, fit_prior=True)"
            ]
          },
          "metadata": {},
          "execution_count": 33
        }
      ]
    },
    {
      "cell_type": "code",
      "metadata": {
        "id": "EibV6IEgxBAx"
      },
      "source": [
        "expected = y_test\n",
        "predicted=model.predict(tf_test)\n"
      ],
      "execution_count": null,
      "outputs": []
    },
    {
      "cell_type": "markdown",
      "metadata": {
        "id": "8LAaeoEexOxg"
      },
      "source": [
        "Посмотрим на результат"
      ]
    },
    {
      "cell_type": "code",
      "metadata": {
        "colab": {
          "base_uri": "https://localhost:8080/"
        },
        "id": "-F90wfjWxF1x",
        "outputId": "847be59c-3c36-4411-86ea-68aca4234549"
      },
      "source": [
        "print(metrics.classification_report(expected, predicted))\n",
        "print(metrics.confusion_matrix(expected, predicted))"
      ],
      "execution_count": null,
      "outputs": [
        {
          "output_type": "stream",
          "name": "stdout",
          "text": [
            "              precision    recall  f1-score   support\n",
            "\n",
            "           0       0.98      0.91      0.95     14860\n",
            "           1       0.92      0.98      0.95     14860\n",
            "\n",
            "    accuracy                           0.95     29720\n",
            "   macro avg       0.95      0.95      0.95     29720\n",
            "weighted avg       0.95      0.95      0.95     29720\n",
            "\n",
            "[[13553  1307]\n",
            " [  234 14626]]\n"
          ]
        }
      ]
    },
    {
      "cell_type": "markdown",
      "metadata": {
        "id": "1A4HP-qFyRSK"
      },
      "source": [
        "Посмотрим на матрицу путаницы"
      ]
    },
    {
      "cell_type": "code",
      "metadata": {
        "colab": {
          "base_uri": "https://localhost:8080/",
          "height": 313
        },
        "id": "yeJ7BxcpxNFq",
        "outputId": "1ebfa4dd-337c-40d9-a081-f3248c38f01b"
      },
      "source": [
        "plot_confusion_matrix(metrics.confusion_matrix(expected, predicted))"
      ],
      "execution_count": null,
      "outputs": [
        {
          "output_type": "execute_result",
          "data": {
            "text/plain": [
              "(<Figure size 432x288 with 1 Axes>,\n",
              " <matplotlib.axes._subplots.AxesSubplot at 0x7f1cfee6a9d0>)"
            ]
          },
          "metadata": {},
          "execution_count": 38
        },
        {
          "output_type": "display_data",
          "data": {
            "image/png": "[encoded data removed]",
            "text/plain": [
              "<Figure size 432x288 with 1 Axes>"
            ]
          },
          "metadata": {
            "needs_background": "light"
          }
        }
      ]
    },
    {
      "cell_type": "markdown",
      "metadata": {
        "id": "KnSuO8iU1jsc"
      },
      "source": [
        "Давайте посмотрим, на какие твиты какие результаты дает модель\n",
        "Выведем первые 10 результатов, чтобы не загружать нотбук"
      ]
    },
    {
      "cell_type": "code",
      "metadata": {
        "colab": {
          "base_uri": "https://localhost:8080/"
        },
        "id": "00T9p9wgxd0B",
        "outputId": "a63e9b72-1c12-480c-a67d-d574076af5a0"
      },
      "source": [
        "# трейн дф\n",
        "gg=X_test.reset_index(drop=True)\n",
        "for i, p in enumerate(predicted):\n",
        "    print(gg[i] + \" - \" + str(p))\n",
        "    if i > 10:\n",
        "        break"
      ],
      "execution_count": null,
      "outputs": [
        {
          "output_type": "stream",
          "name": "stdout",
          "text": [
            "terry bradshaw amp george karl least insensitive remarks racist re melo mike tomlin trump emboldened - 1\n",
            "user might libtard if libtard sjw liberal politics - 1\n",
            "working saturday - 0\n",
            "racism cease white priviledge must beast god help us this melanin poetry write - 1\n",
            "user wohooo excited aaron cassie 11192016 wedding - 0\n",
            "user trophy always one user educate yourself womenwednesdayâ - 1\n",
            "good morning happy tuesday tuesday morning coffee fabdivas - 0\n",
            "user whining women much harder men cause user - 1\n",
            "multiple types racism america us america - 1\n",
            "user user hello mahið hope good less day left watch playð indvszim - 0\n",
            "sea shepherd suppoers racist antiracism seashepherd - 1\n",
            "user hell juan decide kellyann raise kids work weve years cant standâ - 1\n"
          ]
        }
      ]
    },
    {
      "cell_type": "code",
      "metadata": {
        "colab": {
          "base_uri": "https://localhost:8080/"
        },
        "id": "_qCZGqI01vpA",
        "outputId": "8e4f2819-74e5-4f58-c54b-f86f1ff0f5c3"
      },
      "source": [
        "# тест дф\n",
        "predicted_nolabel=model.predict(tf_test_for_test)\n",
        "for i, p in enumerate(tf_test_for_test):\n",
        "    print(df_test.tweet[i] + \" - \" + str(predicted_nolabel[i]))\n",
        "    if i > 10:\n",
        "        break "
      ],
      "execution_count": null,
      "outputs": [
        {
          "output_type": "stream",
          "name": "stdout",
          "text": [
            "studiolife aislife requires passion dedication willpower find newmaterialsâ - 0\n",
            "user white supremacists want everyone see new â birdsâ movie â hereâs - 1\n",
            "safe ways heal acne altwaystoheal healthy healing - 0\n",
            "hp cursed child book reservations already yes where no when ððð harrypotter pottermore favorite - 0\n",
            "3rd bihday amazing hilarious nephew eli ahmir uncle dave loves missesâ - 0\n",
            "choose momtips - 0\n",
            "something inside dies ððâ eyes ness smokeyeyes tired lonely sof grungeâ - 0\n",
            "finishedtattooinkedinkloveitâï âïâïâïâï thanksaleeee - 0\n",
            "user user user never understand dad left young deep inthefeels - 0\n",
            "delicious food lovelife capetown mannaepicure resturantâ - 0\n",
            "1000dayswasted narcosis infinite ep make aware grinding neuro bass lifestyle - 0\n",
            "one worlds greatest spoing events lemans24 teamaudi - 0\n"
          ]
        }
      ]
    },
    {
      "cell_type": "markdown",
      "metadata": {
        "id": "flYStLY23aYT"
      },
      "source": [
        " Все хорошо!"
      ]
    },
    {
      "cell_type": "markdown",
      "metadata": {
        "id": "eFamhPoK3kuh"
      },
      "source": [
        "Для того, чтобы убедиться, что модель работает более менее корректно дадим ей датафрейм с \"плохими словами\" и посмотрим на ее предсказания\n",
        "( к сожалению, плохо помещается)"
      ]
    },
    {
      "cell_type": "code",
      "metadata": {
        "id": "hW1bA7z53d62"
      },
      "source": [
        "test_custom=pd.DataFrame([\"racist\", \"white judge trial\",\n",
        "                          \"it is a horrible incident\",\n",
        "                          \"@user #white #supremacists want everyone to see the new â  #birdsâ #movie â and hereâs why\",\n",
        "                          \" @user #white #supremacists want everyone to see the new â  #birdsâ #movie â and hereâs why\",\n",
        "                          \"@user  at work: attorneys for white officer who shot #philandocastile remove black judge from presiding over trial. htâ¦\"])"
      ],
      "execution_count": null,
      "outputs": []
    },
    {
      "cell_type": "code",
      "metadata": {
        "colab": {
          "base_uri": "https://localhost:8080/"
        },
        "id": "xyHZ_ubO4Cd5",
        "outputId": "25de59a8-ebe9-4cc0-8415-c0af73bd6314"
      },
      "source": [
        "tf_custom = vector.transform(test_custom[0])\n",
        "model.predict(tf_custom)\n"
      ],
      "execution_count": null,
      "outputs": [
        {
          "output_type": "execute_result",
          "data": {
            "text/plain": [
              "array([1, 1, 1, 1, 1, 1])"
            ]
          },
          "metadata": {},
          "execution_count": 43
        }
      ]
    },
    {
      "cell_type": "markdown",
      "metadata": {
        "id": "BPG_fReF4GNE"
      },
      "source": [
        " Ура, модель правильно определила класс специально подсунутых слов\n",
        " "
      ]
    }
  ]
}